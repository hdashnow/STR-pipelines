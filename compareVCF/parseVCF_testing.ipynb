{
 "cells": [
  {
   "cell_type": "code",
   "execution_count": 1,
   "metadata": {
    "collapsed": false
   },
   "outputs": [],
   "source": [
    "def circular_permuted(x):\n",
    "    return([x[i:]+x[:i] for i in range(len(x))])"
   ]
  },
  {
   "cell_type": "code",
   "execution_count": 2,
   "metadata": {
    "collapsed": true
   },
   "outputs": [],
   "source": [
    "from Bio.Seq import Seq\n",
    "from Bio.Alphabet import generic_dna\n",
    "\n",
    "def self_and_rev_complement(in_dna):\n",
    "    all_possible = [in_dna]\n",
    "    \n",
    "    # Get reverse complement\n",
    "    dna = Seq(in_dna, generic_dna)\n",
    "    rev_complement = str(dna.reverse_complement())\n",
    "    all_possible.append(rev_complement)\n",
    "    return(all_possible)"
   ]
  },
  {
   "cell_type": "code",
   "execution_count": 3,
   "metadata": {
    "collapsed": true
   },
   "outputs": [],
   "source": [
    "from Bio.Seq import Seq\n",
    "from Bio.Alphabet import generic_dna\n",
    "\n",
    "def normalise_str(in_dna):\n",
    "    \"\"\"Find all possible eqivalent STR sequences. \n",
    "    And return the first alphabetically.\n",
    "    \n",
    "    For example, TA = AT. But would return AT.\n",
    "    \"\"\"\n",
    "    all_possible = []\n",
    "    # Circularly permute original sequence and reverse complement\n",
    "    for seq in self_and_rev_complement(in_dna):\n",
    "        for permuted_seq in circular_permuted(seq): # Switch to faster permutation (6)\n",
    "            all_possible.append(permuted_seq)\n",
    "\n",
    "    # Sort and take the first\n",
    "    all_possible.sort()\n",
    "    return(all_possible[0])"
   ]
  },
  {
   "cell_type": "code",
   "execution_count": 4,
   "metadata": {
    "collapsed": false
   },
   "outputs": [],
   "source": [
    "# parse VCF files of STR genotype calls (from LobSTR and RepeatSeq)\n",
    "# Compare the results\n",
    "\n",
    "import vcf\n",
    "import pandas as pd\n",
    "import csv\n",
    "\n",
    "def parse_vcf(fname, dirname, outname):\n",
    "    fieldnames=['chr', 'pos', 'refallelelen', 'repeatunit', 'normrepeatunit', 'repeatunitlen', 'genotype', 'depth']\n",
    "    with open(dirname + fname, 'r') as f:\n",
    "        with open(outname, 'w') as csvfile:\n",
    "            csvwriter = csv.DictWriter(csvfile, fieldnames=fieldnames, \n",
    "                                   delimiter=',', extrasaction='ignore')\n",
    "            csvwriter.writeheader()\n",
    "    \n",
    "            vcf_reader = vcf.Reader(f)\n",
    "            sample1 = vcf_reader.samples[0] # Get list of samples in the VCF. save the first\n",
    "\n",
    "            df = pd.DataFrame()\n",
    "            for record in vcf_reader:\n",
    "    \n",
    "                info = {}\n",
    "        \n",
    "                # Data to extract:\n",
    "                # Allele Length Offset(s)\" - need to figure out what this is!\n",
    "        \n",
    "                # Locus data\n",
    "                info['chr'] = record.CHROM\n",
    "                info['pos'] = record.POS\n",
    "                info['refallelelen'] = record.INFO['RL']\n",
    "                info['repeatunit'] = record.INFO['RU']\n",
    "                # Calculated\n",
    "                info['normrepeatunit'] = normalise_str(info['repeatunit'])\n",
    "                info['repeatunitlen'] = len(info['repeatunit']) \n",
    "                \n",
    "                # Genotype data\n",
    "                info['genotype'] = record.genotype(sample1)['GT']\n",
    "\n",
    "                # Not sure if this is for the individual sample, or over all samples.\n",
    "                try:\n",
    "                    info['depth'] = record.INFO['DP']\n",
    "                except KeyError:\n",
    "                    try:\n",
    "                        info['depth'] = record.genotype(sample1)['DP']\n",
    "                    except KeyError:\n",
    "                        info['depth'] = None\n",
    "\n",
    "                csvwriter.writerow(info)        "
   ]
  },
  {
   "cell_type": "code",
   "execution_count": 5,
   "metadata": {
    "collapsed": false
   },
   "outputs": [],
   "source": [
    "dirname = '/Users/hd_vlsci/Documents/git/STR-pipelines/data/intersections_LobSTR-RepeatSeq/'\n",
    "lobstr = 'intersection0_10.vcf' # Called by LobSTR only\n",
    "both = 'intersection0_10_1.vcf' # Called by LobSTR and RepeatSeq\n",
    "repeatseq = 'intersection0_11.vcf' # Called by RepeatSeq only\n",
    "\n",
    "parse_vcf(both, dirname, outname='LobSTR_RepeatSEQ_intersect.csv')\n",
    "parse_vcf(lobstr, dirname, outname='LobSTR_only.csv')\n",
    "parse_vcf(repeatseq, dirname, outname='RepeatSEQ_only.csv')"
   ]
  },
  {
   "cell_type": "code",
   "execution_count": null,
   "metadata": {
    "collapsed": false
   },
   "outputs": [],
   "source": []
  },
  {
   "cell_type": "code",
   "execution_count": null,
   "metadata": {
    "collapsed": true
   },
   "outputs": [],
   "source": []
  }
 ],
 "metadata": {
  "kernelspec": {
   "display_name": "Python 3",
   "language": "python",
   "name": "python3"
  },
  "language_info": {
   "codemirror_mode": {
    "name": "ipython",
    "version": 3
   },
   "file_extension": ".py",
   "mimetype": "text/x-python",
   "name": "python",
   "nbconvert_exporter": "python",
   "pygments_lexer": "ipython3",
   "version": "3.4.3"
  }
 },
 "nbformat": 4,
 "nbformat_minor": 0
}
