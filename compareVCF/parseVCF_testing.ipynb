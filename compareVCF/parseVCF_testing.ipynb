{
 "cells": [
  {
   "cell_type": "code",
   "execution_count": 2,
   "metadata": {
    "collapsed": false
   },
   "outputs": [],
   "source": [
    "def circular_permuted1(seq):\n",
    "    all_possible = []\n",
    "    for i in range(len(seq)):\n",
    "        permuted_seq = (seq + seq)[i:i+len(seq)]\n",
    "        all_possible.append(permuted_seq)\n",
    "    return(all_possible)"
   ]
  },
  {
   "cell_type": "code",
   "execution_count": 3,
   "metadata": {
    "collapsed": false
   },
   "outputs": [],
   "source": [
    "from collections import deque\n",
    "\n",
    "def circular_permuted2(seq):\n",
    "    all_possible = []\n",
    "    d = deque(a)\n",
    "    for i in range(len(a)):\n",
    "        d.rotate()\n",
    "        all_possible.append(''.join(list(d)))\n",
    "    return(all_possible)"
   ]
  },
  {
   "cell_type": "code",
   "execution_count": 4,
   "metadata": {
    "collapsed": false
   },
   "outputs": [],
   "source": [
    "import toolz\n",
    "\n",
    "def circular_permuted3(seq):\n",
    "    all_possible = []\n",
    "    for permuted_seq in toolz.sliding_window(len(seq), seq+seq[:-1]):\n",
    "        all_possible.append(''.join(permuted_seq))\n",
    "    return(all_possible)"
   ]
  },
  {
   "cell_type": "code",
   "execution_count": 5,
   "metadata": {
    "collapsed": false
   },
   "outputs": [],
   "source": [
    "def circular_permuted4(seq):\n",
    "    n = len(seq)\n",
    "    return([''.join([seq[i - j] for i in range(n)]) for j in range(n)])"
   ]
  },
  {
   "cell_type": "code",
   "execution_count": 6,
   "metadata": {
    "collapsed": true
   },
   "outputs": [],
   "source": [
    "def circular_permuted5(seq):\n",
    "    n = len(seq)\n",
    "    return([(seq + seq)[i:i+len(seq)] for i in range(n)])"
   ]
  },
  {
   "cell_type": "code",
   "execution_count": 20,
   "metadata": {
    "collapsed": false
   },
   "outputs": [],
   "source": [
    "def circular_permuted6(x):\n",
    "    return([x[i:]+x[:i] for i in range(len(x))])"
   ]
  },
  {
   "cell_type": "code",
   "execution_count": 7,
   "metadata": {
    "collapsed": true
   },
   "outputs": [],
   "source": [
    "a = \"ATCG\""
   ]
  },
  {
   "cell_type": "code",
   "execution_count": 8,
   "metadata": {
    "collapsed": false
   },
   "outputs": [
    {
     "name": "stdout",
     "output_type": "stream",
     "text": [
      "100000 loops, best of 10: 2.03 µs per loop\n"
     ]
    }
   ],
   "source": [
    "%%timeit -r10\n",
    "circular_permuted1(a)"
   ]
  },
  {
   "cell_type": "code",
   "execution_count": 9,
   "metadata": {
    "collapsed": false
   },
   "outputs": [
    {
     "name": "stdout",
     "output_type": "stream",
     "text": [
      "100000 loops, best of 10: 3.57 µs per loop\n"
     ]
    }
   ],
   "source": [
    "%%timeit -r10\n",
    "circular_permuted2(a)"
   ]
  },
  {
   "cell_type": "code",
   "execution_count": 10,
   "metadata": {
    "collapsed": false
   },
   "outputs": [
    {
     "name": "stdout",
     "output_type": "stream",
     "text": [
      "The slowest run took 4.08 times longer than the fastest. This could mean that an intermediate result is being cached \n",
      "100000 loops, best of 10: 3.63 µs per loop\n"
     ]
    }
   ],
   "source": [
    "%%timeit -r10\n",
    "circular_permuted3(a)"
   ]
  },
  {
   "cell_type": "code",
   "execution_count": 11,
   "metadata": {
    "collapsed": false
   },
   "outputs": [
    {
     "name": "stdout",
     "output_type": "stream",
     "text": [
      "100000 loops, best of 10: 5.84 µs per loop\n"
     ]
    }
   ],
   "source": [
    "%%timeit -r10\n",
    "circular_permuted4(a)"
   ]
  },
  {
   "cell_type": "code",
   "execution_count": 12,
   "metadata": {
    "collapsed": false
   },
   "outputs": [
    {
     "name": "stdout",
     "output_type": "stream",
     "text": [
      "The slowest run took 4.91 times longer than the fastest. This could mean that an intermediate result is being cached \n",
      "100000 loops, best of 10: 2 µs per loop\n"
     ]
    }
   ],
   "source": [
    "%%timeit -r10\n",
    "circular_permuted5(a)"
   ]
  },
  {
   "cell_type": "code",
   "execution_count": 24,
   "metadata": {
    "collapsed": false
   },
   "outputs": [
    {
     "name": "stdout",
     "output_type": "stream",
     "text": [
      "100000 loops, best of 10: 1.77 µs per loop\n"
     ]
    }
   ],
   "source": [
    "%%timeit -r10\n",
    "circular_permuted6(a) # Winner!"
   ]
  },
  {
   "cell_type": "code",
   "execution_count": 25,
   "metadata": {
    "collapsed": true
   },
   "outputs": [],
   "source": [
    "from Bio.Seq import Seq\n",
    "from Bio.Alphabet import generic_dna\n",
    "\n",
    "def normalise_str(in_dna):\n",
    "    \"\"\"Find all possible eqivalent STR sequences. \n",
    "    And return the first alphabetically.\n",
    "    \n",
    "    For example, TA = AT. But would return AT.\n",
    "    \"\"\"\n",
    "    all_possible = [in_dna]\n",
    "    \n",
    "    # Get reverse complement\n",
    "    dna = Seq(in_dna, generic_dna)\n",
    "    rev_complement = str(dna.reverse_complement())\n",
    "    all_possible.append(rev_complement)\n",
    "    \n",
    "    # Permute\n",
    "    for seq in [in_dna, rev_complement]:\n",
    "        for permuted_seq in circular_permuted1(seq): # Switch to faster permutation (6)\n",
    "            all_possible.append(permuted_seq)\n",
    "\n",
    "    # Sort and take the first\n",
    "    all_possible.sort()\n",
    "    return(all_possible[0])"
   ]
  },
  {
   "cell_type": "code",
   "execution_count": 26,
   "metadata": {
    "collapsed": true
   },
   "outputs": [],
   "source": [
    "from skbio.sequence import DNASequence\n",
    "\n",
    "def normalise_str2(in_dna):\n",
    "    \"\"\"Find all possible eqivalent STR sequences. \n",
    "    And return the first alphabetically.\n",
    "    \n",
    "    For example, TA = AT. But would return AT.\n",
    "    \"\"\"\n",
    "    all_possible = [in_dna]\n",
    "    \n",
    "    # Get reverse complement\n",
    "    dna = DNASequence(in_dna)\n",
    "    rev_complement = str(dna.reverse_complement())\n",
    "    all_possible.append(rev_complement)\n",
    "    \n",
    "    # Permute\n",
    "    for seq in [in_dna, rev_complement]:\n",
    "        for permuted_seq in circular_permuted1(seq): # Switch to faster permutation (6)\n",
    "            all_possible.append(permuted_seq)\n",
    "\n",
    "    # Sort and take the first\n",
    "    all_possible.sort()\n",
    "    return(all_possible[0])"
   ]
  },
  {
   "cell_type": "code",
   "execution_count": 27,
   "metadata": {
    "collapsed": true
   },
   "outputs": [],
   "source": [
    "from Bio.Seq import Seq\n",
    "from Bio.Alphabet import generic_dna\n",
    "\n",
    "def self_and_rev_complement1(in_dna):\n",
    "    all_possible = [in_dna]\n",
    "    \n",
    "    # Get reverse complement\n",
    "    dna = Seq(in_dna, generic_dna)\n",
    "    rev_complement = str(dna.reverse_complement())\n",
    "    all_possible.append(rev_complement)\n",
    "    return(all_possible)\n",
    "\n",
    "from skbio.sequence import DNASequence\n",
    "\n",
    "def self_and_rev_complement2(in_dna):\n",
    "    all_possible = [in_dna]\n",
    "    \n",
    "    # Get reverse complement\n",
    "    dna = DNASequence(in_dna)\n",
    "    rev_complement = str(dna.reverse_complement())\n",
    "    all_possible.append(rev_complement)\n",
    "    return(all_possible)"
   ]
  },
  {
   "cell_type": "code",
   "execution_count": 30,
   "metadata": {
    "collapsed": false
   },
   "outputs": [
    {
     "name": "stdout",
     "output_type": "stream",
     "text": [
      "The slowest run took 4.18 times longer than the fastest. This could mean that an intermediate result is being cached \n",
      "100000 loops, best of 10: 5.91 µs per loop\n"
     ]
    }
   ],
   "source": [
    "%%timeit -r10\n",
    "self_and_rev_complement1(a)"
   ]
  },
  {
   "cell_type": "code",
   "execution_count": 31,
   "metadata": {
    "collapsed": false
   },
   "outputs": [
    {
     "name": "stdout",
     "output_type": "stream",
     "text": [
      "100000 loops, best of 10: 11 µs per loop\n"
     ]
    }
   ],
   "source": [
    "%%timeit -r10\n",
    "self_and_rev_complement2(a)"
   ]
  },
  {
   "cell_type": "code",
   "execution_count": 32,
   "metadata": {
    "collapsed": false
   },
   "outputs": [
    {
     "data": {
      "text/plain": [
       "['ATCG', 'CGAT']"
      ]
     },
     "execution_count": 32,
     "metadata": {},
     "output_type": "execute_result"
    }
   ],
   "source": [
    "self_and_rev_complement2(a)"
   ]
  },
  {
   "cell_type": "code",
   "execution_count": 17,
   "metadata": {
    "collapsed": false
   },
   "outputs": [],
   "source": [
    "# parse VCF files of STR genotype calls (from LobSTR and RepeatSeq)\n",
    "# Compare the results\n",
    "\n",
    "import vcf\n",
    "import pandas as pd\n",
    "import copy\n",
    "import csv\n",
    "\n",
    "def parse_vcf(fname, dirname, outname):\n",
    "    fieldnames=['chr', 'pos', 'refallelelen', 'repeatunit', 'normrepeatunit', 'repeatunitlen', 'genotype', 'depth']\n",
    "    with open(dirname + fname, 'r') as f:\n",
    "        with open(outname, 'w') as csvfile:\n",
    "            csvwriter = csv.DictWriter(csvfile, fieldnames=fieldnames, \n",
    "                                   delimiter=',', extrasaction='ignore')\n",
    "            csvwriter.writeheader()\n",
    "    \n",
    "            vcf_reader = vcf.Reader(f)\n",
    "            sample1 = vcf_reader.samples[0] # Get list of samples in the VCF. save the first\n",
    "\n",
    "            df = pd.DataFrame()\n",
    "            for record in vcf_reader:\n",
    "    \n",
    "                info = {}\n",
    "        \n",
    "                # Locus data\n",
    "                info['chr'] = record.CHROM\n",
    "                info['pos'] = record.POS\n",
    "                info['refallelelen'] = record.INFO['RL']\n",
    "                info['repeatunit'] = record.INFO['RU']\n",
    "                # Calculated\n",
    "                info['normrepeatunit'] = normalise_str(info['repeatunit'])\n",
    "                info['repeatunitlen'] = len(info['repeatunit']) \n",
    "                \n",
    "                # Genotype data\n",
    "                info['genotype'] = record.genotype(sample1)['GT']\n",
    "\n",
    "                # Not sure if this is for the individual sample, or over all samples.\n",
    "                try:\n",
    "                    info['depth'] = record.INFO['DP']\n",
    "                except KeyError:\n",
    "                    try:\n",
    "                        info['depth'] = record.genotype(sample1)['DP']\n",
    "                    except KeyError:\n",
    "                        info['depth'] = None\n",
    "\n",
    "                csvwriter.writerow(info)        "
   ]
  },
  {
   "cell_type": "code",
   "execution_count": 18,
   "metadata": {
    "collapsed": false
   },
   "outputs": [],
   "source": [
    "dirname = '/Users/hd_vlsci/Documents/git/STR-pipelines/data/intersections_LobSTR-RepeatSeq/'\n",
    "lobstr = 'intersection0_10.vcf' # Called by LobSTR only\n",
    "both = 'intersection0_10_1.vcf' # Called by LobSTR and RepeatSeq\n",
    "repeatseq = 'intersection0_11.vcf' # Called by RepeatSeq only\n",
    "\n",
    "parse_vcf(both, dirname, outname='LobSTR_RepeatSEQ_intersect.csv')\n",
    "parse_vcf(lobstr, dirname, outname='LobSTR_only.csv')\n",
    "parse_vcf(repeatseq, dirname, outname='RepeatSEQ_only.csv')\n",
    "\n",
    "# Data to extract:\n",
    "# Chrom\n",
    "# Pos\n",
    "# Genotype\n",
    "#GT\n",
    "# Allele Length Offset(s)\" - need to figure out what this is!\n",
    "# Depth\n",
    "#DP\n",
    "# Repeat unit\n",
    "#RU\n",
    "# Reference length of repeat\n",
    "#RL\n",
    "# Things to calculate:"
   ]
  },
  {
   "cell_type": "code",
   "execution_count": null,
   "metadata": {
    "collapsed": false
   },
   "outputs": [],
   "source": []
  },
  {
   "cell_type": "code",
   "execution_count": null,
   "metadata": {
    "collapsed": true
   },
   "outputs": [],
   "source": []
  }
 ],
 "metadata": {
  "kernelspec": {
   "display_name": "Python 3",
   "language": "python",
   "name": "python3"
  },
  "language_info": {
   "codemirror_mode": {
    "name": "ipython",
    "version": 3
   },
   "file_extension": ".py",
   "mimetype": "text/x-python",
   "name": "python",
   "nbconvert_exporter": "python",
   "pygments_lexer": "ipython3",
   "version": "3.4.3"
  }
 },
 "nbformat": 4,
 "nbformat_minor": 0
}
